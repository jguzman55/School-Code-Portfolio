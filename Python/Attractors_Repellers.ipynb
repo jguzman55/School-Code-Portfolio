{
 "cells": [
  {
   "cell_type": "code",
   "execution_count": 18,
   "metadata": {},
   "outputs": [],
   "source": [
    "%matplotlib inline\n",
    "import matplotlib.pyplot as plt\n",
    "import matplotlib\n",
    "import numpy as np\n",
    "import math\n",
    "import itertools"
   ]
  },
  {
   "cell_type": "code",
   "execution_count": 19,
   "metadata": {},
   "outputs": [],
   "source": [
    "#\n",
    "# The piecewise linear activation function that clips weighted input. \n",
    "# A scalar function (numbers in, numbers out)\n",
    "#\n",
    "# input: weighted input \n",
    "# output: activation\n",
    "#\n",
    "def piecewise_linear(weighted_input):\n",
    "    u = 100\n",
    "    l = -100\n",
    "    if(weighted_input > u):\n",
    "        return u\n",
    "    elif(weighted_input < l):\n",
    "        return l\n",
    "    else:\n",
    "        return weighted_input"
   ]
  },
  {
   "cell_type": "code",
   "execution_count": 20,
   "metadata": {},
   "outputs": [],
   "source": [
    "#\n",
    "# A function that corresponds to a 2 node, fully connected recurrent network\n",
    "# \n",
    "# This is a function on vectors;a function from one activation vector to another. \n",
    "# It is also a rule that defines a dynamical system.  A way to go from an initial point\n",
    "# in state space to a future point.  You can edit which activation function is used\n",
    "# if you like.\n",
    "# \n",
    "# input: current activation vector \n",
    "# output: activation vector after processing by the network\n",
    "# \n",
    "#\n",
    "def recurrent_net(activation_vector):\n",
    "    weighted_inputs = activation_vector.dot(weight_matrix)\n",
    "    ### Uncomment the activation you want to use below\n",
    "    act_function = np.vectorize(piecewise_linear)  \n",
    "    # act_function = np.vectorize(threshold) \n",
    "    return act_function(weighted_inputs)"
   ]
  },
  {
   "cell_type": "code",
   "execution_count": 21,
   "metadata": {},
   "outputs": [],
   "source": [
    "weight_matrix = np.array([[.4,-1],[.4,.3]]) #weight strengths DNC!"
   ]
  },
  {
   "cell_type": "code",
   "execution_count": 22,
   "metadata": {},
   "outputs": [],
   "source": [
    "init_conditions = [np.array([-37,46])] "
   ]
  },
  {
   "cell_type": "code",
   "execution_count": 23,
   "metadata": {},
   "outputs": [
    {
     "data": {
      "image/png": "[encoded data removed]",
      "text/plain": [
       "<Figure size 396x396 with 1 Axes>"
      ]
     },
     "metadata": {},
     "output_type": "display_data"
    }
   ],
   "source": [
    "for ic in init_conditions:\n",
    "    orbit_length = 40  # EDIT: You can set how long the orbit to display is here\n",
    "    orbit = np.zeros((orbit_length,2))\n",
    "    orbit[0] = ic\n",
    "    plt.scatter(ic[0],ic[1], c=\"red\", s=100) # Plot initial conditions\n",
    "    for i in range(1,orbit_length):\n",
    "        orbit[i] = recurrent_net(orbit[i-1])\n",
    "    plt.plot(orbit[:,0],orbit[:,1],'.-',alpha = .2, color = 'purple')\n",
    "fig = matplotlib.pyplot.gcf()\n",
    "fig.set_size_inches(5.5, 5.5) # Set plot size here\n",
    "# fig.savefig('phase_portrait.png') # Use this to save an image instead of taking a screenshot"
   ]
  },
  {
   "cell_type": "code",
   "execution_count": 24,
   "metadata": {},
   "outputs": [],
   "source": [
    "# \n",
    "# Function to print orbits relative to initial condition\n",
    "#\n",
    "def print_orbit(init_condition):\n",
    "    print(\"init condition:\",init_condition)\n",
    "    orbit_length = 100 # EDIT: Set how long to show orbits for here\n",
    "    orbit = np.zeros((orbit_length,2))\n",
    "    orbit[0] = init_condition\n",
    "    for i in range(1,orbit_length):\n",
    "        orbit[i] = recurrent_net(orbit[i-1])\n",
    "        print(np.round(orbit[i],5))\n",
    "    print(\"-----------\")"
   ]
  },
  {
   "cell_type": "code",
   "execution_count": 25,
   "metadata": {},
   "outputs": [
    {
     "name": "stdout",
     "output_type": "stream",
     "text": [
      "init condition: [-37  46]\n",
      "[ 3.6 50.8]\n",
      "[21.76 11.64]\n",
      "[ 13.36  -18.268]\n",
      "[ -1.9632 -18.8404]\n",
      "[-8.32144 -3.68892]\n",
      "[-4.80414  7.21476]\n",
      "[0.96425 6.96857]\n",
      "[3.17313 1.12632]\n",
      "[ 1.71978 -2.83523]\n",
      "[-0.44618 -2.57035]\n",
      "[-1.20661 -0.32492]\n",
      "[-0.61261  1.10913]\n",
      "[0.19861 0.94536]\n",
      "[0.45759 0.085  ]\n",
      "[ 0.21703 -0.43209]\n",
      "[-0.08602 -0.34666]\n",
      "[-0.17307 -0.01798]\n",
      "[-0.07642  0.16768]\n",
      "[0.0365  0.12672]\n",
      "[0.06529 0.00151]\n",
      "[ 0.02672 -0.06484]\n",
      "[-0.01525 -0.04617]\n",
      "[-0.02457  0.00139]\n",
      "[-0.00927  0.02499]\n",
      "[0.00629 0.01677]\n",
      "[ 0.00922 -0.00126]\n",
      "[ 0.00319 -0.0096 ]\n",
      "[-0.00256 -0.00606]\n",
      "[-0.00345  0.00075]\n",
      "[-0.00108  0.00368]\n",
      "[0.00104 0.00219]\n",
      "[ 0.00129 -0.00038]\n",
      "[ 0.00036 -0.0014 ]\n",
      "[-0.00042 -0.00078]\n",
      "[-0.00048  0.00018]\n",
      "[-0.00012  0.00053]\n",
      "[0.00017 0.00028]\n",
      "[ 1.8e-04 -8.0e-05]\n",
      "[ 4.e-05 -2.e-04]\n",
      "[-7.e-05 -1.e-04]\n",
      "[-7.e-05  4.e-05]\n",
      "[-1.e-05  8.e-05]\n",
      "[3.e-05 4.e-05]\n",
      "[ 2.e-05 -2.e-05]\n",
      "[ 0.e+00 -3.e-05]\n",
      "[-1.e-05 -1.e-05]\n",
      "[-1.e-05  1.e-05]\n",
      "[-0.e+00  1.e-05]\n",
      "[0. 0.]\n",
      "[ 0. -0.]\n",
      "[ 0. -0.]\n",
      "[-0. -0.]\n",
      "[-0.  0.]\n",
      "[-0.  0.]\n",
      "[0. 0.]\n",
      "[ 0. -0.]\n",
      "[-0. -0.]\n",
      "[-0. -0.]\n",
      "[-0.  0.]\n",
      "[0. 0.]\n",
      "[0. 0.]\n",
      "[ 0. -0.]\n",
      "[-0. -0.]\n",
      "[-0. -0.]\n",
      "[-0.  0.]\n",
      "[0. 0.]\n",
      "[0. 0.]\n",
      "[ 0. -0.]\n",
      "[-0. -0.]\n",
      "[-0. -0.]\n",
      "[-0.  0.]\n",
      "[0. 0.]\n",
      "[0. 0.]\n",
      "[ 0. -0.]\n",
      "[-0. -0.]\n",
      "[-0. -0.]\n",
      "[-0.  0.]\n",
      "[0. 0.]\n",
      "[0. 0.]\n",
      "[ 0. -0.]\n",
      "[-0. -0.]\n",
      "[-0. -0.]\n",
      "[-0.  0.]\n",
      "[0. 0.]\n",
      "[ 0. -0.]\n",
      "[ 0. -0.]\n",
      "[-0. -0.]\n",
      "[-0.  0.]\n",
      "[-0.  0.]\n",
      "[0. 0.]\n",
      "[ 0. -0.]\n",
      "[ 0. -0.]\n",
      "[-0. -0.]\n",
      "[-0.  0.]\n",
      "[-0.  0.]\n",
      "[0. 0.]\n",
      "[ 0. -0.]\n",
      "[ 0. -0.]\n",
      "[-0. -0.]\n",
      "-----------\n"
     ]
    }
   ],
   "source": [
    "for ic in init_conditions:\n",
    "    print_orbit(ic)"
   ]
  },
  {
   "cell_type": "code",
   "execution_count": null,
   "metadata": {},
   "outputs": [],
   "source": []
  },
  {
   "cell_type": "code",
   "execution_count": null,
   "metadata": {},
   "outputs": [],
   "source": []
  }
 ],
 "metadata": {
  "kernelspec": {
   "display_name": "Python 3",
   "language": "python",
   "name": "python3"
  },
  "language_info": {
   "codemirror_mode": {
    "name": "ipython",
    "version": 3
   },
   "file_extension": ".py",
   "mimetype": "text/x-python",
   "name": "python",
   "nbconvert_exporter": "python",
   "pygments_lexer": "ipython3",
   "version": "3.6.5"
  }
 },
 "nbformat": 4,
 "nbformat_minor": 2
}
