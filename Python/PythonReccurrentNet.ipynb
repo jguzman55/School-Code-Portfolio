{
 "cells": [
  {
   "cell_type": "code",
   "execution_count": 47,
   "metadata": {},
   "outputs": [],
   "source": [
    "import numpy as np\n",
    "import matplotlib.pyplot as plt\n",
    "%matplotlib inline"
   ]
  },
  {
   "cell_type": "code",
   "execution_count": 48,
   "metadata": {},
   "outputs": [],
   "source": [
    "init_point = np.array([1,2])\n",
    "weight_matrix = np.array([[.4,-1],[.4,.3]])"
   ]
  },
  {
   "cell_type": "code",
   "execution_count": 49,
   "metadata": {},
   "outputs": [],
   "source": [
    "times = range(23)\n",
    "activation = init_point\n",
    "activations = []\n",
    "activations.append(init_point)\n",
    "for t in times:\n",
    "    activation = weight_matrix.dot(activation)\n",
    "    activations.append(activation)\n",
    "points = np.asarray(activations)"
   ]
  },
  {
   "cell_type": "code",
   "execution_count": 50,
   "metadata": {},
   "outputs": [
    {
     "data": {
      "image/png": "[encoded data removed]",
      "text/plain": [
       "<Figure size 432x288 with 1 Axes>"
      ]
     },
     "metadata": {},
     "output_type": "display_data"
    }
   ],
   "source": [
    "plt.plot(points[:,1], points[:,0])\n",
    "plt.plot(points[:,1], points[:,0], 'bo')\n",
    "for i, label in enumerate(times):\n",
    "    plt.text(points[i,1], points[i,0], label)"
   ]
  },
  {
   "cell_type": "code",
   "execution_count": 51,
   "metadata": {},
   "outputs": [
    {
     "name": "stdout",
     "output_type": "stream",
     "text": [
      "[[ 1.00e+00  2.00e+00]\n",
      " [-1.60e+00  1.00e+00]\n",
      " [-1.64e+00 -3.40e-01]\n",
      " [-3.16e-01 -7.58e-01]\n",
      " [ 6.32e-01 -3.54e-01]\n",
      " [ 6.06e-01  1.47e-01]\n",
      " [ 9.60e-02  2.87e-01]\n",
      " [-2.48e-01  1.24e-01]\n",
      " [-2.24e-01 -6.20e-02]\n",
      " [-2.80e-02 -1.08e-01]\n",
      " [ 9.70e-02 -4.30e-02]\n",
      " [ 8.20e-02  2.60e-02]\n",
      " [ 7.00e-03  4.10e-02]\n",
      " [-3.80e-02  1.50e-02]\n",
      " [-3.00e-02 -1.10e-02]\n",
      " [-1.00e-03 -1.50e-02]\n",
      " [ 1.50e-02 -5.00e-03]\n",
      " [ 1.10e-02  4.00e-03]\n",
      " [ 0.00e+00  6.00e-03]\n",
      " [-6.00e-03  2.00e-03]\n",
      " [-4.00e-03 -2.00e-03]\n",
      " [ 0.00e+00 -2.00e-03]\n",
      " [ 2.00e-03 -1.00e-03]\n",
      " [ 1.00e-03  1.00e-03]]\n"
     ]
    }
   ],
   "source": [
    "print(np.round(points,3))"
   ]
  },
  {
   "cell_type": "code",
   "execution_count": null,
   "metadata": {},
   "outputs": [],
   "source": []
  },
  {
   "cell_type": "code",
   "execution_count": null,
   "metadata": {},
   "outputs": [],
   "source": []
  }
 ],
 "metadata": {
  "kernelspec": {
   "display_name": "Python 3",
   "language": "python",
   "name": "python3"
  },
  "language_info": {
   "codemirror_mode": {
    "name": "ipython",
    "version": 3
   },
   "file_extension": ".py",
   "mimetype": "text/x-python",
   "name": "python",
   "nbconvert_exporter": "python",
   "pygments_lexer": "ipython3",
   "version": "3.7.1"
  }
 },
 "nbformat": 4,
 "nbformat_minor": 2
}
