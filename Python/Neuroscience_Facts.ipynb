{
 "cells": [
  {
   "cell_type": "code",
   "execution_count": 4,
   "metadata": {},
   "outputs": [
    {
     "name": "stdout",
     "output_type": "stream",
     "text": [
      "Fact 1 : The occipital lobe is involved in visual processing\n",
      "Fact 2 : Damage to visual cortex is associated with cortical blindness\n",
      "Fact 3 : The dorsal stream coordinates visual and spatial information\n",
      "Fact 4 : Pre-motor cortex is associated with complex movements\n",
      "Fact 5 : The thalamus is a subcortical region responsible for processing and relaying information between the cortex & sensory and motor structures on the body.\n",
      "Fact 6 : The hippocampus is involved in short-term to long-term memory consolidation, and in the production of spatial maps of a person's environment.\n",
      "Fact 7 : The basal ganglia is an important collection of nuclei beneath the cortex which have a variety of functions, including control of voluntary action, and learning how to take actions that are likely to lead an agent to rewarding stimuli.\n",
      "Fact 8 : The cerebellum is involved in fine motor control\n"
     ]
    }
   ],
   "source": [
    "for i in range(1,9):\n",
    "    if(i == 1):\n",
    "        print(\"Fact\",i,\": The occipital lobe is involved in visual processing\")\n",
    "    elif(i == 2):\n",
    "        print(\"Fact\",i,\": Damage to visual cortex is associated with cortical blindness\")\n",
    "    elif(i == 3):\n",
    "        print(\"Fact\",i,\": The dorsal stream coordinates visual and spatial information\")\n",
    "    elif(i == 4):\n",
    "        print(\"Fact\",i,\": Pre-motor cortex is associated with complex movements\")\n",
    "    elif(i == 5):\n",
    "        print(\"Fact\",i,\": The thalamus is a subcortical region responsible for processing and relaying information between the cortex & sensory and motor structures on the body.\")\n",
    "    elif(i == 6):\n",
    "        print(\"Fact\",i,\": The hippocampus is involved in short-term to long-term memory consolidation, and in the production of spatial maps of a person's environment.\")\n",
    "    elif(i == 7):\n",
    "        print(\"Fact\",i,\": The basal ganglia is an important collection of nuclei beneath the cortex which have a variety of functions, including control of voluntary action, and learning how to take actions that are likely to lead an agent to rewarding stimuli.\")\n",
    "    else:\n",
    "        print(\"Fact\",i,\": The cerebellum is involved in fine motor control\")"
   ]
  },
  {
   "cell_type": "code",
   "execution_count": null,
   "metadata": {},
   "outputs": [],
   "source": []
  }
 ],
 "metadata": {
  "kernelspec": {
   "display_name": "Python 3",
   "language": "python",
   "name": "python3"
  },
  "language_info": {
   "codemirror_mode": {
    "name": "ipython",
    "version": 3
   },
   "file_extension": ".py",
   "mimetype": "text/x-python",
   "name": "python",
   "nbconvert_exporter": "python",
   "pygments_lexer": "ipython3",
   "version": "3.7.2"
  }
 },
 "nbformat": 4,
 "nbformat_minor": 2
}
