{
 "cells": [
  {
   "cell_type": "code",
   "execution_count": 7,
   "metadata": {},
   "outputs": [
    {
     "name": "stdout",
     "output_type": "stream",
     "text": [
      "Seasons are overated anyways\n"
     ]
    }
   ],
   "source": [
    "I_love_fall= True\n",
    "I_love_summer = False\n",
    "if(I_love_summer != I_love_summer): \n",
    "    print(\"September - December are the best months\")\n",
    "else:\n",
    "    print(\"Seasons are overated anyways\")"
   ]
  },
  {
   "cell_type": "code",
   "execution_count": 9,
   "metadata": {},
   "outputs": [
    {
     "name": "stdout",
     "output_type": "stream",
     "text": [
      "September - December are the best months\n"
     ]
    }
   ],
   "source": [
    "I_love_fall= True\n",
    "I_love_summer = False\n",
    "if(I_love_fall != I_love_summer): \n",
    "    print(\"September - December are the best months\")\n",
    "else:\n",
    "    print(\"Seasons are overated anyways\")"
   ]
  },
  {
   "cell_type": "code",
   "execution_count": 10,
   "metadata": {},
   "outputs": [
    {
     "name": "stdout",
     "output_type": "stream",
     "text": [
      "September - December are the best months\n"
     ]
    }
   ],
   "source": [
    "I_love_fall= True\n",
    "I_love_summer = False\n",
    "if(I_love_summer != I_love_fall): \n",
    "    print(\"September - December are the best months\")\n",
    "else:\n",
    "    print(\"Seasons are overated anyways\")"
   ]
  },
  {
   "cell_type": "code",
   "execution_count": 12,
   "metadata": {},
   "outputs": [
    {
     "name": "stdout",
     "output_type": "stream",
     "text": [
      "Seasons are overated anyways\n"
     ]
    }
   ],
   "source": [
    "I_love_fall= True\n",
    "I_love_summer = False\n",
    "if(I_love_fall != I_love_fall): \n",
    "    print(\"September - December are the best months\")\n",
    "else:\n",
    "    print(\"Seasons are overated anyways\")"
   ]
  },
  {
   "cell_type": "code",
   "execution_count": null,
   "metadata": {},
   "outputs": [],
   "source": []
  }
 ],
 "metadata": {
  "kernelspec": {
   "display_name": "Python 3",
   "language": "python",
   "name": "python3"
  },
  "language_info": {
   "codemirror_mode": {
    "name": "ipython",
    "version": 3
   },
   "file_extension": ".py",
   "mimetype": "text/x-python",
   "name": "python",
   "nbconvert_exporter": "python",
   "pygments_lexer": "ipython3",
   "version": "3.7.2"
  }
 },
 "nbformat": 4,
 "nbformat_minor": 2
}
